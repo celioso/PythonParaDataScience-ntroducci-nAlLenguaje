{
  "cells": [
    {
      "cell_type": "markdown",
      "metadata": {},
      "source": [
        "# **Python para DS - Introducción al Lenguaje**"
      ]
    },
    {
      "cell_type": "code",
      "execution_count": 1,
      "metadata": {},
      "outputs": [
        {
          "data": {
            "text/plain": [
              "2"
            ]
          },
          "execution_count": 1,
          "metadata": {},
          "output_type": "execute_result"
        }
      ],
      "source": [
        "1+1"
      ]
    },
    {
      "cell_type": "code",
      "execution_count": 2,
      "metadata": {},
      "outputs": [
        {
          "data": {
            "text/plain": [
              "'Christiam'"
            ]
          },
          "execution_count": 2,
          "metadata": {},
          "output_type": "execute_result"
        }
      ],
      "source": [
        "\"Christiam\""
      ]
    },
    {
      "cell_type": "code",
      "execution_count": 13,
      "metadata": {},
      "outputs": [],
      "source": [
        "nombre = \"Mario\""
      ]
    },
    {
      "cell_type": "code",
      "execution_count": 4,
      "metadata": {},
      "outputs": [
        {
          "data": {
            "text/plain": [
              "'Mario'"
            ]
          },
          "execution_count": 4,
          "metadata": {},
          "output_type": "execute_result"
        }
      ],
      "source": [
        "nombre"
      ]
    },
    {
      "cell_type": "code",
      "execution_count": 12,
      "metadata": {},
      "outputs": [],
      "source": [
        "edad = 40"
      ]
    },
    {
      "cell_type": "code",
      "execution_count": 6,
      "metadata": {},
      "outputs": [
        {
          "data": {
            "text/plain": [
              "39"
            ]
          },
          "execution_count": 6,
          "metadata": {},
          "output_type": "execute_result"
        }
      ],
      "source": [
        "edad"
      ]
    },
    {
      "cell_type": "markdown",
      "metadata": {},
      "source": [
        "### Mi primera función"
      ]
    },
    {
      "cell_type": "code",
      "execution_count": 19,
      "metadata": {},
      "outputs": [
        {
          "name": "stdout",
          "output_type": "stream",
          "text": [
            "El nombre es Mario y su edad es 39 años\n"
          ]
        }
      ],
      "source": [
        "print(\"El nombre es Mario y su edad es 39 años\")"
      ]
    },
    {
      "cell_type": "code",
      "execution_count": 14,
      "metadata": {},
      "outputs": [
        {
          "name": "stdout",
          "output_type": "stream",
          "text": [
            "El Mario es Mario y su edad es 40 años\n"
          ]
        }
      ],
      "source": [
        "print(f\"El {nombre} es Mario y su edad es {edad} años\")"
      ]
    },
    {
      "cell_type": "code",
      "execution_count": 17,
      "metadata": {},
      "outputs": [],
      "source": [
        "def saludar():\n",
        "    nombre = input(\"Digite su nombre: \")\n",
        "    print(f\"Hola, {nombre} sea bienvenido@!!\")"
      ]
    },
    {
      "cell_type": "code",
      "execution_count": 18,
      "metadata": {},
      "outputs": [
        {
          "name": "stdout",
          "output_type": "stream",
          "text": [
            "Hola, Mario sea bienvenido!!\n"
          ]
        }
      ],
      "source": [
        "saludar()"
      ]
    },
    {
      "cell_type": "markdown",
      "metadata": {},
      "source": [
        "### Parámetros"
      ]
    },
    {
      "cell_type": "code",
      "execution_count": 2,
      "metadata": {},
      "outputs": [],
      "source": [
        "nombre = \"Andrea\""
      ]
    },
    {
      "cell_type": "code",
      "execution_count": 3,
      "metadata": {},
      "outputs": [],
      "source": [
        "def saludar_con_parametros(nombre):\n",
        "    print(f\"Hola {nombre} sea Bienvenido@!!!\")"
      ]
    },
    {
      "cell_type": "code",
      "execution_count": 6,
      "metadata": {},
      "outputs": [
        {
          "name": "stdout",
          "output_type": "stream",
          "text": [
            "Hola Andrea sea Bienvenido@!!!\n"
          ]
        }
      ],
      "source": [
        "saludar_con_parametros(nombre)"
      ]
    },
    {
      "cell_type": "markdown",
      "metadata": {},
      "source": [
        "### Codicionales\n"
      ]
    },
    {
      "cell_type": "code",
      "execution_count": 10,
      "metadata": {},
      "outputs": [
        {
          "name": "stdout",
          "output_type": "stream",
          "text": [
            "Usted tienen edad suficiente para conducir\n"
          ]
        }
      ],
      "source": [
        "edad = 18\n",
        "\n",
        "def verificar_si_puede_conducir(edad):\n",
        "    if edad >= 18:\n",
        "        print(\"Usted tienen edad suficiente para conducir\")\n",
        "\n",
        "    else:\n",
        "        print(\"Usted no tiene edad para conducir\")\n",
        "    \n",
        "verificar_si_puede_conducir(edad)"
      ]
    },
    {
      "cell_type": "markdown",
      "metadata": {},
      "source": [
        "# Condicionales sin parámetros y conversión de tipo de dato"
      ]
    },
    {
      "cell_type": "code",
      "execution_count": 17,
      "metadata": {},
      "outputs": [
        {
          "name": "stdout",
          "output_type": "stream",
          "text": [
            "Usted No tiene edad suficiente para conducir\n"
          ]
        }
      ],
      "source": [
        "def verificar_si_puede_conducir_sin_parametro():\n",
        "    edad = int(input(\"Digite su edad: \"))\n",
        "    if edad >= 18:\n",
        "        print(\"Usted tiene edad suficiente para conducir\")\n",
        "\n",
        "    else:\n",
        "        print(\"Usted No tiene edad suficiente para conducir\")\n",
        "\n",
        "verificar_si_puede_conducir_sin_parametro()"
      ]
    },
    {
      "cell_type": "markdown",
      "metadata": {},
      "source": [
        "# Listas"
      ]
    },
    {
      "cell_type": "code",
      "execution_count": 41,
      "metadata": {},
      "outputs": [],
      "source": [
        "edad = 18\n",
        "nombre = \"Christian\""
      ]
    },
    {
      "cell_type": "code",
      "execution_count": 20,
      "metadata": {},
      "outputs": [],
      "source": [
        "edades = [18, 15, 12, 45, 50]"
      ]
    },
    {
      "cell_type": "code",
      "execution_count": 21,
      "metadata": {},
      "outputs": [
        {
          "data": {
            "text/plain": [
              "[18, 15, 12, 45, 50]"
            ]
          },
          "execution_count": 21,
          "metadata": {},
          "output_type": "execute_result"
        }
      ],
      "source": [
        "edades"
      ]
    },
    {
      "cell_type": "code",
      "execution_count": 42,
      "metadata": {},
      "outputs": [
        {
          "data": {
            "text/plain": [
              "int"
            ]
          },
          "execution_count": 42,
          "metadata": {},
          "output_type": "execute_result"
        }
      ],
      "source": [
        "type(edad)"
      ]
    },
    {
      "cell_type": "code",
      "execution_count": 26,
      "metadata": {},
      "outputs": [
        {
          "data": {
            "text/plain": [
              "str"
            ]
          },
          "execution_count": 26,
          "metadata": {},
          "output_type": "execute_result"
        }
      ],
      "source": [
        "type(nombre)"
      ]
    },
    {
      "cell_type": "code",
      "execution_count": 27,
      "metadata": {},
      "outputs": [
        {
          "data": {
            "text/plain": [
              "list"
            ]
          },
          "execution_count": 27,
          "metadata": {},
          "output_type": "execute_result"
        }
      ],
      "source": [
        "type(edades)"
      ]
    },
    {
      "cell_type": "code",
      "execution_count": 29,
      "metadata": {},
      "outputs": [
        {
          "data": {
            "text/plain": [
              "[18, 15, 12, 45, 50]"
            ]
          },
          "execution_count": 29,
          "metadata": {},
          "output_type": "execute_result"
        }
      ],
      "source": [
        "edades"
      ]
    },
    {
      "cell_type": "code",
      "execution_count": 30,
      "metadata": {},
      "outputs": [
        {
          "data": {
            "text/plain": [
              "12"
            ]
          },
          "execution_count": 30,
          "metadata": {},
          "output_type": "execute_result"
        }
      ],
      "source": [
        "edades[2]"
      ]
    },
    {
      "cell_type": "code",
      "execution_count": 31,
      "metadata": {},
      "outputs": [
        {
          "data": {
            "text/plain": [
              "15"
            ]
          },
          "execution_count": 31,
          "metadata": {},
          "output_type": "execute_result"
        }
      ],
      "source": [
        "# [18, 15, 12, 45, 50]\n",
        "#  0    1   2   3   4\n",
        "edades[1]"
      ]
    },
    {
      "cell_type": "code",
      "execution_count": 33,
      "metadata": {},
      "outputs": [
        {
          "data": {
            "text/plain": [
              "[18, 15, 12]"
            ]
          },
          "execution_count": 33,
          "metadata": {},
          "output_type": "execute_result"
        }
      ],
      "source": [
        "edades[0:3]"
      ]
    },
    {
      "cell_type": "code",
      "execution_count": 34,
      "metadata": {},
      "outputs": [
        {
          "data": {
            "text/plain": [
              "[18, 15, 12, 45, 50]"
            ]
          },
          "execution_count": 34,
          "metadata": {},
          "output_type": "execute_result"
        }
      ],
      "source": [
        "edades"
      ]
    },
    {
      "cell_type": "code",
      "execution_count": 35,
      "metadata": {},
      "outputs": [
        {
          "data": {
            "text/plain": [
              "[18, 15, 12, 45, 50]"
            ]
          },
          "execution_count": 35,
          "metadata": {},
          "output_type": "execute_result"
        }
      ],
      "source": [
        "edades[:]"
      ]
    },
    {
      "cell_type": "code",
      "execution_count": 36,
      "metadata": {},
      "outputs": [
        {
          "data": {
            "text/plain": [
              "[15, 12, 45, 50]"
            ]
          },
          "execution_count": 36,
          "metadata": {},
          "output_type": "execute_result"
        }
      ],
      "source": [
        "edades[1:]"
      ]
    },
    {
      "cell_type": "code",
      "execution_count": 37,
      "metadata": {},
      "outputs": [
        {
          "data": {
            "text/plain": [
              "50"
            ]
          },
          "execution_count": 37,
          "metadata": {},
          "output_type": "execute_result"
        }
      ],
      "source": [
        "# [18, 15, 12, 45, 50]\n",
        "#  0    1   2   3   4\n",
        "#  0   -4   -4  -2  -1\n",
        "\n",
        "edades[-1]"
      ]
    },
    {
      "cell_type": "code",
      "execution_count": 38,
      "metadata": {},
      "outputs": [
        {
          "data": {
            "text/plain": [
              "12"
            ]
          },
          "execution_count": 38,
          "metadata": {},
          "output_type": "execute_result"
        }
      ],
      "source": [
        "edades[-3]"
      ]
    },
    {
      "cell_type": "code",
      "execution_count": 39,
      "metadata": {},
      "outputs": [
        {
          "data": {
            "text/plain": [
              "12"
            ]
          },
          "execution_count": 39,
          "metadata": {},
          "output_type": "execute_result"
        }
      ],
      "source": [
        "edades[2]"
      ]
    },
    {
      "cell_type": "markdown",
      "metadata": {},
      "source": [
        "# Ciclos y Bucles"
      ]
    },
    {
      "cell_type": "code",
      "execution_count": 44,
      "metadata": {},
      "outputs": [
        {
          "name": "stdout",
          "output_type": "stream",
          "text": [
            "Usted tiene edad suficiente para conducir 🚗\n",
            "Usted NO tiene edad suficiente para conducir 🚲\n",
            "Usted NO tiene edad suficiente para conducir 🚲\n",
            "Usted tiene edad suficiente para conducir 🚗\n",
            "Usted tiene edad suficiente para conducir 🚗\n"
          ]
        }
      ],
      "source": [
        "#Bucle fuera d ela función\n",
        "edades = [18, 15, 12, 45, 50]\n",
        "\n",
        "def verificar_si_puede_conducir(edad):\n",
        "    if edad >= 18:\n",
        "        print(\"Usted tiene edad suficiente para conducir 🚗\")\n",
        "    else:\n",
        "        print(\"Usted NO tiene edad suficiente para conducir 🚲\")\n",
        "\n",
        "\n",
        "for edad in edades:\n",
        "        verificar_si_puede_conducir(edad)"
      ]
    },
    {
      "cell_type": "code",
      "execution_count": 46,
      "metadata": {},
      "outputs": [
        {
          "name": "stdout",
          "output_type": "stream",
          "text": [
            "Usted tiene edad suficiente para conducir 🚗\n",
            "Usted NO tiene edad suficiente para conducir 🚲\n",
            "Usted NO tiene edad suficiente para conducir 🚲\n",
            "Usted tiene edad suficiente para conducir 🚗\n",
            "Usted tiene edad suficiente para conducir 🚗\n"
          ]
        }
      ],
      "source": [
        "#Bucle dentro d ela función\n",
        "edades = [18, 15, 12, 45, 50]\n",
        "\n",
        "def verificar_si_puede_conducir_con_bucle(edades):\n",
        "    for edad in edades:\n",
        "        if edad >= 18:\n",
        "            print(\"Usted tiene edad suficiente para conducir 🚗\")\n",
        "        else:\n",
        "            print(\"Usted NO tiene edad suficiente para conducir 🚲\")\n",
        "\n",
        "\n",
        "\n",
        "verificar_si_puede_conducir_con_bucle(edades)"
      ]
    },
    {
      "cell_type": "markdown",
      "metadata": {},
      "source": [
        "# Booleana"
      ]
    },
    {
      "cell_type": "code",
      "execution_count": 47,
      "metadata": {},
      "outputs": [],
      "source": [
        "edad = 18"
      ]
    },
    {
      "cell_type": "code",
      "execution_count": 48,
      "metadata": {},
      "outputs": [
        {
          "data": {
            "text/plain": [
              "True"
            ]
          },
          "execution_count": 48,
          "metadata": {},
          "output_type": "execute_result"
        }
      ],
      "source": [
        "edad >= 18"
      ]
    },
    {
      "cell_type": "code",
      "execution_count": 49,
      "metadata": {},
      "outputs": [
        {
          "data": {
            "text/plain": [
              "False"
            ]
          },
          "execution_count": 49,
          "metadata": {},
          "output_type": "execute_result"
        }
      ],
      "source": [
        "edad < 18"
      ]
    },
    {
      "cell_type": "code",
      "execution_count": 50,
      "metadata": {},
      "outputs": [
        {
          "data": {
            "text/plain": [
              "True"
            ]
          },
          "execution_count": 50,
          "metadata": {},
          "output_type": "execute_result"
        }
      ],
      "source": [
        "edad == 18"
      ]
    },
    {
      "cell_type": "code",
      "execution_count": 54,
      "metadata": {},
      "outputs": [
        {
          "name": "stdout",
          "output_type": "stream",
          "text": [
            "Usted NO tiene edad suficiente para conducir 🚲\n",
            "Usted NO tiene edad suficiente para conducir 🚲\n",
            "Usted tiene edad suficiente para conducir 🚗\n"
          ]
        }
      ],
      "source": [
        "verificaciones = []\n",
        "edades = [13, 15, 20]\n",
        "\n",
        "def verificar_si_puede_conducir_bool(verificaciones, edades):\n",
        "    for edad in edades:\n",
        "        if edad >= 18:\n",
        "            verificaciones.append(True)\n",
        "        else:\n",
        "            verificaciones.append(False)\n",
        "    for verificacion in verificaciones:\n",
        "        if verificacion == True:\n",
        "            print(\"Usted tiene edad suficiente para conducir 🚗\")\n",
        "        else:\n",
        "            print(\"Usted NO tiene edad suficiente para conducir 🚲\")\n",
        "\n",
        "verificar_si_puede_conducir_bool(verificaciones, edades)"
      ]
    },
    {
      "cell_type": "markdown",
      "metadata": {},
      "source": [
        "# Lista con diferentes tipos de datos"
      ]
    },
    {
      "cell_type": "code",
      "execution_count": 58,
      "metadata": {},
      "outputs": [],
      "source": [
        "persona = [\"Mariana\", 25, True, \"Mexico\"]"
      ]
    },
    {
      "cell_type": "code",
      "execution_count": 60,
      "metadata": {},
      "outputs": [
        {
          "name": "stdout",
          "output_type": "stream",
          "text": [
            "El elemento Mariana de la lista es del tipo  <class 'str'>\n",
            "El elemento 25 de la lista es del tipo  <class 'int'>\n",
            "El elemento True de la lista es del tipo  <class 'bool'>\n",
            "El elemento Mexico de la lista es del tipo  <class 'str'>\n"
          ]
        }
      ],
      "source": [
        "for elemento in persona:\n",
        "    print(f\"El elemento {elemento} de la lista es del tipo \",type(elemento))"
      ]
    },
    {
      "cell_type": "code",
      "execution_count": null,
      "metadata": {},
      "outputs": [],
      "source": [
        "Diferentes tipos en una lista"
      ]
    }
  ],
  "metadata": {
    "colab": {
      "provenance": []
    },
    "kernelspec": {
      "display_name": "Python 3",
      "name": "python3"
    },
    "language_info": {
      "codemirror_mode": {
        "name": "ipython",
        "version": 3
      },
      "file_extension": ".py",
      "mimetype": "text/x-python",
      "name": "python",
      "nbconvert_exporter": "python",
      "pygments_lexer": "ipython3",
      "version": "3.11.0rc1"
    }
  },
  "nbformat": 4,
  "nbformat_minor": 0
}
